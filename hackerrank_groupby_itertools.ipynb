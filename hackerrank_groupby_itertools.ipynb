{
 "cells": [
  {
   "cell_type": "code",
   "execution_count": 11,
   "metadata": {},
   "outputs": [
    {
     "name": "stdout",
     "output_type": "stream",
     "text": [
      "11122331\n",
      "[1, 2, 3, 1]\n",
      "(3, 1) (2, 2) (2, 3) (1, 1) "
     ]
    }
   ],
   "source": [
    "\n",
    "#####################################################################\n",
    "#Groupby from itertools\n",
    "#####################################################################\n",
    "# Enter your code here. Read input from STDIN. Print output to STDOUT\n",
    "\n",
    "from itertools import *\n",
    "\n",
    "s = input().strip()\n",
    "\n",
    "#store list of chars in char list\n",
    "#char= [int(i) for i,j in groupby(s)]  --- this can be used instead of the below char code\n",
    "\n",
    "char =[]\n",
    "for i,j in groupby(s):\n",
    "    char.append(int(i))\n",
    "#print(char)\n",
    "\n",
    "#count of corresponding chars in count list\n",
    "count= [len(list(j)) for i,j in groupby(s)]\n",
    "\n",
    "for i in range(len(char)):\n",
    "    print(f\"({count[i]}, {char[i]})\", sep =' ', end=' ')\n",
    "    "
   ]
  },
  {
   "cell_type": "code",
   "execution_count": null,
   "metadata": {},
   "outputs": [],
   "source": []
  }
 ],
 "metadata": {
  "kernelspec": {
   "display_name": "Python 3",
   "language": "python",
   "name": "python3"
  },
  "language_info": {
   "codemirror_mode": {
    "name": "ipython",
    "version": 3
   },
   "file_extension": ".py",
   "mimetype": "text/x-python",
   "name": "python",
   "nbconvert_exporter": "python",
   "pygments_lexer": "ipython3",
   "version": "3.8.5"
  }
 },
 "nbformat": 4,
 "nbformat_minor": 4
}
